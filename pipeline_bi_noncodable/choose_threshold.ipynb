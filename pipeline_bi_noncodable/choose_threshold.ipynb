{
 "cells": [
  {
   "cell_type": "code",
   "execution_count": 16,
   "metadata": {},
   "outputs": [],
   "source": [
    "import os\n",
    "import numpy as np\n",
    "import pandas as pd\n",
    "import pickle\n",
    "import yaml\n",
    "import json\n",
    "import math\n",
    "from sklearn.model_selection import train_test_split\n",
    "from sklearn.metrics import precision_score, recall_score\n",
    "import matplotlib.pyplot as plt\n",
    "import sys\n",
    "import os\n",
    "sys.path.append(os.path.dirname(os.path.abspath('.')))\n",
    "import s3fs\n",
    "from data_import.bdd import PostGre_SQL_DB\n",
    "\n",
    "\n",
    "secret=secret\n",
    "fs = s3fs.S3FileSystem(client_kwargs={'endpoint_url': 'http://minio.ouest.innovation.insee.eu'},\n",
    "                       key='ssplab', secret=secret)\n",
    "bdd = PostGre_SQL_DB(fs=fs)"
   ]
  },
  {
   "cell_type": "code",
   "execution_count": 2,
   "metadata": {},
   "outputs": [
    {
     "name": "stderr",
     "output_type": "stream",
     "text": [
      "[nltk_data] Downloading package stopwords to /root/nltk_data...\n",
      "[nltk_data]   Package stopwords is already up-to-date!\n"
     ]
    }
   ],
   "source": [
    "from script_runtime import load_pipeline_and_model, project"
   ]
  },
  {
   "cell_type": "markdown",
   "metadata": {},
   "source": [
    "# load model"
   ]
  },
  {
   "cell_type": "code",
   "execution_count": 3,
   "metadata": {},
   "outputs": [],
   "source": [
    "training_dir = 'output'\n",
    "conf_file = os.path.join(os.path.abspath(training_dir), 'config.yaml')\n",
    "configs, cleaners, processes, model = load_pipeline_and_model(conf_file, for_runtime=True)"
   ]
  },
  {
   "cell_type": "code",
   "execution_count": 4,
   "metadata": {},
   "outputs": [],
   "source": [
    "model.load_model(os.path.join(training_dir, 'model.h5'),\n",
    "                 os.path.join(training_dir, 'dict_info.p'))"
   ]
  },
  {
   "cell_type": "markdown",
   "metadata": {},
   "source": [
    "# load data"
   ]
  },
  {
   "cell_type": "code",
   "execution_count": 5,
   "metadata": {},
   "outputs": [],
   "source": [
    "with open('cabbis_test.json') as f:\n",
    "    cabbis_model_test = json.load(f)\n",
    "with open('X_test.p', 'rb') as f:\n",
    "    X_model_test = pickle.load(f)\n",
    "with open('y_test.p', 'rb') as f:\n",
    "    y_model_test = pickle.load(f)"
   ]
  },
  {
   "cell_type": "code",
   "execution_count": 6,
   "metadata": {},
   "outputs": [
    {
     "data": {
      "text/plain": [
       "(497900, 497900)"
      ]
     },
     "execution_count": 6,
     "metadata": {},
     "output_type": "execute_result"
    }
   ],
   "source": [
    "len(cabbis_model_test), len(y_model_test)"
   ]
  },
  {
   "cell_type": "code",
   "execution_count": 7,
   "metadata": {},
   "outputs": [],
   "source": [
    "train_range, eval_range, y_train, y_eval = train_test_split(range(len(cabbis_model_test)), y_model_test, test_size=0.3, stratify=y_model_test)\n",
    "\n",
    "cabbis_train = np.asarray(cabbis_model_test)[train_range]\n",
    "X_train = X_model_test[train_range]\n",
    "\n",
    "cabbis_eval = np.asarray(cabbis_model_test)[eval_range]\n",
    "X_eval = X_model_test[eval_range]"
   ]
  },
  {
   "cell_type": "markdown",
   "metadata": {},
   "source": [
    "# calculate threshold"
   ]
  },
  {
   "cell_type": "code",
   "execution_count": 8,
   "metadata": {},
   "outputs": [],
   "source": [
    "predictions = model.predict(X_train)"
   ]
  },
  {
   "cell_type": "code",
   "execution_count": 9,
   "metadata": {},
   "outputs": [
    {
     "name": "stderr",
     "output_type": "stream",
     "text": [
      "/usr/local/lib/python3.6/dist-packages/sklearn/metrics/_classification.py:1221: UndefinedMetricWarning: Precision is ill-defined and being set to 0.0 due to no predicted samples. Use `zero_division` parameter to control this behavior.\n",
      "  _warn_prf(average, modifier, msg_start, len(result))\n",
      "/usr/local/lib/python3.6/dist-packages/ipykernel_launcher.py:14: RuntimeWarning: invalid value encountered in double_scalars\n",
      "  \n"
     ]
    }
   ],
   "source": [
    "nb_bis = 1400000\n",
    "pct_non_codables = 0.15  # int(nb_bis * np.sum(y_train[:, 1]) / len(y_train))\n",
    "\n",
    "precisions = []\n",
    "recalls = []\n",
    "nb_bis_found = []\n",
    "nb_bis_flagged = []\n",
    "points = list(range(50, 100))\n",
    "for p in points:\n",
    "    non_codables = predictions[:, 1] >= p / 100.\n",
    "    precisions.append(precision_score(y_train[:, 1], non_codables))\n",
    "    recalls.append(recall_score(y_train[:, 1], non_codables))\n",
    "    nb_bis_found.append(recalls[-1] * pct_non_codables)\n",
    "    nb_bis_flagged.append(nb_bis_found[-1] / precisions[-1])"
   ]
  },
  {
   "cell_type": "code",
   "execution_count": 10,
   "metadata": {},
   "outputs": [
    {
     "data": {
      "text/plain": [
       "<matplotlib.legend.Legend at 0x7f1a83915be0>"
      ]
     },
     "execution_count": 10,
     "metadata": {},
     "output_type": "execute_result"
    },
    {
     "data": {
      "image/png": "[encoded data removed]",
      "text/plain": [
       "<Figure size 432x288 with 1 Axes>"
      ]
     },
     "metadata": {
      "needs_background": "light"
     },
     "output_type": "display_data"
    }
   ],
   "source": [
    "fig, ax = plt.subplots()  # Create a figure containing a single axes.\n",
    "ax.plot(points, precisions, label='precision')  # Plot some data on the axes.\n",
    "ax.plot(points, recalls, label='recall')  # Plot some data on the axes.\n",
    "ax.legend()  # Add a legend."
   ]
  },
  {
   "cell_type": "code",
   "execution_count": 11,
   "metadata": {},
   "outputs": [
    {
     "data": {
      "text/plain": [
       "<matplotlib.legend.Legend at 0x7f1a81fa9d30>"
      ]
     },
     "execution_count": 11,
     "metadata": {},
     "output_type": "execute_result"
    },
    {
     "data": {
      "image/png": "[encoded data removed]",
      "text/plain": [
       "<Figure size 432x288 with 1 Axes>"
      ]
     },
     "metadata": {
      "needs_background": "light"
     },
     "output_type": "display_data"
    }
   ],
   "source": [
    "fig, ax = plt.subplots()  # Create a figure containing a single axes.\n",
    "ax.plot(points, nb_bis_found, label='BIs ecartés et non codables')  # Plot some data on the axes.\n",
    "ax.plot(points, nb_bis_flagged, label='BIs ecartés')  # Plot some data on the axes.\n",
    "ax.legend()  # Add a legend."
   ]
  },
  {
   "cell_type": "markdown",
   "metadata": {},
   "source": [
    "# choose threshold"
   ]
  },
  {
   "cell_type": "code",
   "execution_count": 18,
   "metadata": {},
   "outputs": [
    {
     "name": "stdout",
     "output_type": "stream",
     "text": [
      "Pour une précision de 0.8065870910698497, vous utiliser un seuil = 0.57, et obtiendrez un recall de 0.15532286212914484\n",
      "Pour une proportion estimée de 15.0% de BI non codables, le système écartera 2.89% des BI, dont 2.33% effectivement non-codables\n",
      "\n",
      "\n",
      "Sur les données d'evaluation, pour un seuil de 0.57\n",
      "- précision: 0.8, recall: 0.15971394517282478\n",
      "- Pour une proportion estimée de 15.0% de BI non codables, le système écartera 2.99% des BI, dont 2.4% effectivement non-codables\n"
     ]
    }
   ],
   "source": [
    "precision = 80\n",
    "\n",
    "ind = [math.floor(v*100) for v in precisions].index(precision)\n",
    "threshold = points[ind] / 100.\n",
    "\n",
    "final_precision = precisions[ind]\n",
    "final_recall = recalls[ind]\n",
    "final_nb_bis_found = nb_bis_found[ind]\n",
    "final_nb_bis_flagged = nb_bis_flagged[ind]\n",
    "\n",
    "print(f'Pour une précision de {final_precision}, vous utiliser un seuil = {threshold}, et obtiendrez un recall de {final_recall}')\n",
    "print(f'Pour une proportion estimée de {round(pct_non_codables*100, 2)}% de BI non codables, le système écartera {round(final_nb_bis_flagged*100, 2)}% des BI, dont {round(final_nb_bis_found*100, 2)}% effectivement non-codables')\n",
    "\n",
    "print('')\n",
    "print('')\n",
    "predictions_eval = model.predict(X_eval)\n",
    "non_codables_eval = predictions_eval[:, 1] >= threshold\n",
    "precision_eval = precision_score(y_eval[:, 1], non_codables_eval)\n",
    "recall_eval = recall_score(y_eval[:, 1], non_codables_eval)\n",
    "nb_bis_found_eval = recall_eval * pct_non_codables\n",
    "nb_bis_flagged_eval = nb_bis_found_eval / precision_eval\n",
    "\n",
    "print(f\"Sur les données d'evaluation, pour un seuil de {threshold}\")\n",
    "print(f'- précision: {precision_eval}, recall: {recall_eval}')\n",
    "print(f'- Pour une proportion estimée de {round(pct_non_codables*100, 2)}% de BI non codables, le système écartera {round(nb_bis_flagged_eval*100, 2)}% des BI, dont {round(nb_bis_found_eval*100, 2)}% effectivement non-codables')"
   ]
  },
  {
   "cell_type": "markdown",
   "metadata": {},
   "source": [
    "## Explore false negative (non-codable not flagged)"
   ]
  },
  {
   "cell_type": "code",
   "execution_count": 19,
   "metadata": {},
   "outputs": [],
   "source": [
    "false_negatives = np.array(range(len(predictions_eval)))[(predictions_eval[:, 1] < threshold) & (y_eval[:, 1] == 1)]"
   ]
  },
  {
   "cell_type": "code",
   "execution_count": 20,
   "metadata": {},
   "outputs": [],
   "source": [
    "false_negative_cabbis = cabbis_eval[false_negatives]"
   ]
  },
  {
   "cell_type": "code",
   "execution_count": 43,
   "metadata": {},
   "outputs": [],
   "source": [
    "sql = \"SELECT * FROM rp_final_2019 WHERE cabbi IN ('\"\n",
    "sql += \"','\".join(false_negative_cabbis)\n",
    "sql += \"')\"\n",
    "df_fn = bdd.read_from_sql(sql)"
   ]
  },
  {
   "cell_type": "code",
   "execution_count": 44,
   "metadata": {},
   "outputs": [],
   "source": [
    "df_fn['score_classif'] = predictions_eval[false_negatives, 1]"
   ]
  },
  {
   "cell_type": "code",
   "execution_count": 45,
   "metadata": {},
   "outputs": [],
   "source": [
    "df_fn = df_fn[['cabbi','depcom_code', 'rs_x', 'ilt_x', 'vardompart_x',\n",
    "               'numvoi_x', 'bister_x', 'typevoi_x', 'nomvoi_x', 'cpladr_x', 'actet_x',\n",
    "               'clt_x', 'dlt_x', 'plt_x', 'profi_x', 'profs_x',\n",
    "               'profa_x','siretm', 'siretc', 'siret_final','score_classif']]"
   ]
  },
  {
   "cell_type": "code",
   "execution_count": 46,
   "metadata": {},
   "outputs": [
    {
     "data": {
      "text/html": [
       "<div>\n",
       "<style scoped>\n",
       "    .dataframe tbody tr th:only-of-type {\n",
       "        vertical-align: middle;\n",
       "    }\n",
       "\n",
       "    .dataframe tbody tr th {\n",
       "        vertical-align: top;\n",
       "    }\n",
       "\n",
       "    .dataframe thead th {\n",
       "        text-align: right;\n",
       "    }\n",
       "</style>\n",
       "<table border=\"1\" class=\"dataframe\">\n",
       "  <thead>\n",
       "    <tr style=\"text-align: right;\">\n",
       "      <th></th>\n",
       "      <th>cabbi</th>\n",
       "      <th>depcom_code</th>\n",
       "      <th>rs_x</th>\n",
       "      <th>ilt_x</th>\n",
       "      <th>vardompart_x</th>\n",
       "      <th>numvoi_x</th>\n",
       "      <th>bister_x</th>\n",
       "      <th>typevoi_x</th>\n",
       "      <th>nomvoi_x</th>\n",
       "      <th>cpladr_x</th>\n",
       "      <th>...</th>\n",
       "      <th>clt_x</th>\n",
       "      <th>dlt_x</th>\n",
       "      <th>plt_x</th>\n",
       "      <th>profi_x</th>\n",
       "      <th>profs_x</th>\n",
       "      <th>profa_x</th>\n",
       "      <th>siretm</th>\n",
       "      <th>siretc</th>\n",
       "      <th>siret_final</th>\n",
       "      <th>score_classif</th>\n",
       "    </tr>\n",
       "  </thead>\n",
       "  <tbody>\n",
       "    <tr>\n",
       "      <th>0</th>\n",
       "      <td>9300047541</td>\n",
       "      <td>94081</td>\n",
       "      <td>BSPP</td>\n",
       "      <td>1</td>\n",
       "      <td>None</td>\n",
       "      <td>0002</td>\n",
       "      <td>None</td>\n",
       "      <td>R</td>\n",
       "      <td>DE MEISSEN</td>\n",
       "      <td>None</td>\n",
       "      <td>...</td>\n",
       "      <td>None</td>\n",
       "      <td>None</td>\n",
       "      <td>None</td>\n",
       "      <td>None</td>\n",
       "      <td>SERGENT CHEF</td>\n",
       "      <td>None</td>\n",
       "      <td>None</td>\n",
       "      <td>None</td>\n",
       "      <td>None</td>\n",
       "      <td>0.083670</td>\n",
       "    </tr>\n",
       "    <tr>\n",
       "      <th>1</th>\n",
       "      <td>9300048902</td>\n",
       "      <td>97401</td>\n",
       "      <td>RECTORAT</td>\n",
       "      <td>None</td>\n",
       "      <td>None</td>\n",
       "      <td>None</td>\n",
       "      <td>None</td>\n",
       "      <td>None</td>\n",
       "      <td>None</td>\n",
       "      <td>None</td>\n",
       "      <td>...</td>\n",
       "      <td>None</td>\n",
       "      <td>None</td>\n",
       "      <td>None</td>\n",
       "      <td>None</td>\n",
       "      <td>PROFESSEUR</td>\n",
       "      <td>None</td>\n",
       "      <td>None</td>\n",
       "      <td>None</td>\n",
       "      <td>None</td>\n",
       "      <td>0.006459</td>\n",
       "    </tr>\n",
       "    <tr>\n",
       "      <th>2</th>\n",
       "      <td>9300049349</td>\n",
       "      <td>97401</td>\n",
       "      <td>ANCELOZ</td>\n",
       "      <td>2</td>\n",
       "      <td>1</td>\n",
       "      <td>None</td>\n",
       "      <td>None</td>\n",
       "      <td>None</td>\n",
       "      <td>None</td>\n",
       "      <td>None</td>\n",
       "      <td>...</td>\n",
       "      <td>SAINT-DENIS</td>\n",
       "      <td>974</td>\n",
       "      <td>None</td>\n",
       "      <td>None</td>\n",
       "      <td>CHEF DE CHANTIER</td>\n",
       "      <td>None</td>\n",
       "      <td>None</td>\n",
       "      <td>None</td>\n",
       "      <td>None</td>\n",
       "      <td>0.138403</td>\n",
       "    </tr>\n",
       "    <tr>\n",
       "      <th>3</th>\n",
       "      <td>9300049362</td>\n",
       "      <td>97401</td>\n",
       "      <td>OGEC</td>\n",
       "      <td>2</td>\n",
       "      <td>None</td>\n",
       "      <td>None</td>\n",
       "      <td>None</td>\n",
       "      <td>None</td>\n",
       "      <td>None</td>\n",
       "      <td>None</td>\n",
       "      <td>...</td>\n",
       "      <td>SAINTE-MARIE</td>\n",
       "      <td>None</td>\n",
       "      <td>None</td>\n",
       "      <td>None</td>\n",
       "      <td>FORMATRICE</td>\n",
       "      <td>None</td>\n",
       "      <td>None</td>\n",
       "      <td>None</td>\n",
       "      <td>None</td>\n",
       "      <td>0.142743</td>\n",
       "    </tr>\n",
       "    <tr>\n",
       "      <th>4</th>\n",
       "      <td>9300049604</td>\n",
       "      <td>97402</td>\n",
       "      <td>PFZ</td>\n",
       "      <td>None</td>\n",
       "      <td>None</td>\n",
       "      <td>None</td>\n",
       "      <td>None</td>\n",
       "      <td>None</td>\n",
       "      <td>None</td>\n",
       "      <td>None</td>\n",
       "      <td>...</td>\n",
       "      <td>None</td>\n",
       "      <td>None</td>\n",
       "      <td>None</td>\n",
       "      <td>None</td>\n",
       "      <td>None</td>\n",
       "      <td>None</td>\n",
       "      <td>None</td>\n",
       "      <td>None</td>\n",
       "      <td>None</td>\n",
       "      <td>0.198386</td>\n",
       "    </tr>\n",
       "  </tbody>\n",
       "</table>\n",
       "<p>5 rows × 21 columns</p>\n",
       "</div>"
      ],
      "text/plain": [
       "        cabbi depcom_code      rs_x ilt_x vardompart_x numvoi_x bister_x  \\\n",
       "0  9300047541       94081      BSPP     1         None     0002     None   \n",
       "1  9300048902       97401  RECTORAT  None         None     None     None   \n",
       "2  9300049349       97401   ANCELOZ     2            1     None     None   \n",
       "3  9300049362       97401      OGEC     2         None     None     None   \n",
       "4  9300049604       97402       PFZ  None         None     None     None   \n",
       "\n",
       "  typevoi_x    nomvoi_x cpladr_x  ...         clt_x dlt_x plt_x profi_x  \\\n",
       "0         R  DE MEISSEN     None  ...          None  None  None    None   \n",
       "1      None        None     None  ...          None  None  None    None   \n",
       "2      None        None     None  ...   SAINT-DENIS   974  None    None   \n",
       "3      None        None     None  ...  SAINTE-MARIE  None  None    None   \n",
       "4      None        None     None  ...          None  None  None    None   \n",
       "\n",
       "            profs_x profa_x siretm siretc siret_final score_classif  \n",
       "0      SERGENT CHEF    None   None   None        None      0.083670  \n",
       "1        PROFESSEUR    None   None   None        None      0.006459  \n",
       "2  CHEF DE CHANTIER    None   None   None        None      0.138403  \n",
       "3        FORMATRICE    None   None   None        None      0.142743  \n",
       "4              None    None   None   None        None      0.198386  \n",
       "\n",
       "[5 rows x 21 columns]"
      ]
     },
     "execution_count": 46,
     "metadata": {},
     "output_type": "execute_result"
    }
   ],
   "source": [
    "df_fn.head()"
   ]
  },
  {
   "cell_type": "code",
   "execution_count": null,
   "metadata": {},
   "outputs": [],
   "source": []
  },
  {
   "cell_type": "code",
   "execution_count": null,
   "metadata": {},
   "outputs": [],
   "source": []
  },
  {
   "cell_type": "code",
   "execution_count": null,
   "metadata": {},
   "outputs": [],
   "source": []
  },
  {
   "cell_type": "code",
   "execution_count": null,
   "metadata": {},
   "outputs": [],
   "source": []
  },
  {
   "cell_type": "markdown",
   "metadata": {},
   "source": [
    "## Explore false positive (flagged but codable)"
   ]
  },
  {
   "cell_type": "code",
   "execution_count": 25,
   "metadata": {},
   "outputs": [],
   "source": [
    "false_positives = np.array(range(len(predictions_eval)))[(predictions_eval[:, 1] >= threshold) & (y_eval[:, 1] == 0)]"
   ]
  },
  {
   "cell_type": "code",
   "execution_count": 26,
   "metadata": {},
   "outputs": [],
   "source": [
    "false_positive_cabbis = cabbis_eval[false_positives]"
   ]
  },
  {
   "cell_type": "code",
   "execution_count": 47,
   "metadata": {},
   "outputs": [],
   "source": [
    "sql = \"SELECT * FROM rp_final_2019 WHERE cabbi IN ('\"\n",
    "sql += \"','\".join(false_positive_cabbis)\n",
    "sql += \"')\"\n",
    "df_fp = bdd.read_from_sql(sql)"
   ]
  },
  {
   "cell_type": "code",
   "execution_count": 48,
   "metadata": {},
   "outputs": [],
   "source": [
    "df_fp['score_classif'] = predictions_eval[false_positives, 1]"
   ]
  },
  {
   "cell_type": "code",
   "execution_count": 51,
   "metadata": {},
   "outputs": [],
   "source": [
    "df_fp = df_fp[['cabbi','depcom_code', 'rs_x', 'ilt_x', 'vardompart_x',\n",
    "       'numvoi_x', 'bister_x', 'typevoi_x', 'nomvoi_x', 'cpladr_x', 'actet_x',\n",
    "       'clt_x', 'dlt_x', 'plt_x', 'profi_x', 'profs_x',\n",
    "       'profa_x','siretc', 'siretm','score_classif']]"
   ]
  },
  {
   "cell_type": "code",
   "execution_count": 52,
   "metadata": {},
   "outputs": [
    {
     "data": {
      "text/html": [
       "<div>\n",
       "<style scoped>\n",
       "    .dataframe tbody tr th:only-of-type {\n",
       "        vertical-align: middle;\n",
       "    }\n",
       "\n",
       "    .dataframe tbody tr th {\n",
       "        vertical-align: top;\n",
       "    }\n",
       "\n",
       "    .dataframe thead th {\n",
       "        text-align: right;\n",
       "    }\n",
       "</style>\n",
       "<table border=\"1\" class=\"dataframe\">\n",
       "  <thead>\n",
       "    <tr style=\"text-align: right;\">\n",
       "      <th></th>\n",
       "      <th>cabbi</th>\n",
       "      <th>depcom_code</th>\n",
       "      <th>rs_x</th>\n",
       "      <th>ilt_x</th>\n",
       "      <th>vardompart_x</th>\n",
       "      <th>numvoi_x</th>\n",
       "      <th>bister_x</th>\n",
       "      <th>typevoi_x</th>\n",
       "      <th>nomvoi_x</th>\n",
       "      <th>cpladr_x</th>\n",
       "      <th>actet_x</th>\n",
       "      <th>clt_x</th>\n",
       "      <th>dlt_x</th>\n",
       "      <th>plt_x</th>\n",
       "      <th>profi_x</th>\n",
       "      <th>profs_x</th>\n",
       "      <th>profa_x</th>\n",
       "      <th>siretc</th>\n",
       "      <th>siretm</th>\n",
       "      <th>score_classif</th>\n",
       "    </tr>\n",
       "  </thead>\n",
       "  <tbody>\n",
       "    <tr>\n",
       "      <th>0</th>\n",
       "      <td>9300061764</td>\n",
       "      <td>97408</td>\n",
       "      <td>None</td>\n",
       "      <td>None</td>\n",
       "      <td>None</td>\n",
       "      <td>None</td>\n",
       "      <td>None</td>\n",
       "      <td>None</td>\n",
       "      <td>None</td>\n",
       "      <td>None</td>\n",
       "      <td>TNSR</td>\n",
       "      <td>LA POSSESSION</td>\n",
       "      <td>None</td>\n",
       "      <td>None</td>\n",
       "      <td>None</td>\n",
       "      <td>CONDUCTEUR D ENGIN</td>\n",
       "      <td>None</td>\n",
       "      <td>None</td>\n",
       "      <td>79313781100014</td>\n",
       "      <td>0.666219</td>\n",
       "    </tr>\n",
       "    <tr>\n",
       "      <th>1</th>\n",
       "      <td>9300096468</td>\n",
       "      <td>97416</td>\n",
       "      <td>None</td>\n",
       "      <td>1</td>\n",
       "      <td>None</td>\n",
       "      <td>None</td>\n",
       "      <td>None</td>\n",
       "      <td>None</td>\n",
       "      <td>MAIRIE MART VERS LES BAS</td>\n",
       "      <td>None</td>\n",
       "      <td>None</td>\n",
       "      <td>None</td>\n",
       "      <td>None</td>\n",
       "      <td>None</td>\n",
       "      <td>None</td>\n",
       "      <td>AGENT TECHNIQUE</td>\n",
       "      <td>EMPLOYE COMMUNAL</td>\n",
       "      <td>None</td>\n",
       "      <td>21974016400013</td>\n",
       "      <td>0.655407</td>\n",
       "    </tr>\n",
       "    <tr>\n",
       "      <th>2</th>\n",
       "      <td>9300190363</td>\n",
       "      <td>97213</td>\n",
       "      <td>MINISTERE DE LA DEFENSE</td>\n",
       "      <td>2</td>\n",
       "      <td>None</td>\n",
       "      <td>None</td>\n",
       "      <td>None</td>\n",
       "      <td>None</td>\n",
       "      <td>DESAIX</td>\n",
       "      <td>None</td>\n",
       "      <td>MILITAIRE</td>\n",
       "      <td>F DE F</td>\n",
       "      <td>972</td>\n",
       "      <td>None</td>\n",
       "      <td>None</td>\n",
       "      <td>MILITAIRE</td>\n",
       "      <td>None</td>\n",
       "      <td>13001005100311</td>\n",
       "      <td>None</td>\n",
       "      <td>0.688163</td>\n",
       "    </tr>\n",
       "    <tr>\n",
       "      <th>3</th>\n",
       "      <td>9300223611</td>\n",
       "      <td>97302</td>\n",
       "      <td>ARMEE</td>\n",
       "      <td>1</td>\n",
       "      <td>None</td>\n",
       "      <td>None</td>\n",
       "      <td>None</td>\n",
       "      <td>None</td>\n",
       "      <td>None</td>\n",
       "      <td>None</td>\n",
       "      <td>DEFENSE</td>\n",
       "      <td>None</td>\n",
       "      <td>None</td>\n",
       "      <td>None</td>\n",
       "      <td>None</td>\n",
       "      <td>MILITAIRE</td>\n",
       "      <td>None</td>\n",
       "      <td>47784205800018</td>\n",
       "      <td>None</td>\n",
       "      <td>0.570135</td>\n",
       "    </tr>\n",
       "    <tr>\n",
       "      <th>4</th>\n",
       "      <td>9300283931</td>\n",
       "      <td>50195</td>\n",
       "      <td>None</td>\n",
       "      <td>1</td>\n",
       "      <td>None</td>\n",
       "      <td>None</td>\n",
       "      <td>None</td>\n",
       "      <td>None</td>\n",
       "      <td>LA PIHANNIERE</td>\n",
       "      <td>None</td>\n",
       "      <td>AGRICULTRICE</td>\n",
       "      <td>None</td>\n",
       "      <td>None</td>\n",
       "      <td>None</td>\n",
       "      <td>None</td>\n",
       "      <td>None</td>\n",
       "      <td>None</td>\n",
       "      <td>None</td>\n",
       "      <td>39759388000016</td>\n",
       "      <td>0.639157</td>\n",
       "    </tr>\n",
       "  </tbody>\n",
       "</table>\n",
       "</div>"
      ],
      "text/plain": [
       "        cabbi depcom_code                     rs_x ilt_x vardompart_x  \\\n",
       "0  9300061764       97408                     None  None         None   \n",
       "1  9300096468       97416                     None     1         None   \n",
       "2  9300190363       97213  MINISTERE DE LA DEFENSE     2         None   \n",
       "3  9300223611       97302                    ARMEE     1         None   \n",
       "4  9300283931       50195                     None     1         None   \n",
       "\n",
       "  numvoi_x bister_x typevoi_x                  nomvoi_x cpladr_x  \\\n",
       "0     None     None      None                      None     None   \n",
       "1     None     None      None  MAIRIE MART VERS LES BAS     None   \n",
       "2     None     None      None                    DESAIX     None   \n",
       "3     None     None      None                      None     None   \n",
       "4     None     None      None             LA PIHANNIERE     None   \n",
       "\n",
       "        actet_x          clt_x dlt_x plt_x profi_x             profs_x  \\\n",
       "0          TNSR  LA POSSESSION  None  None    None  CONDUCTEUR D ENGIN   \n",
       "1          None           None  None  None    None     AGENT TECHNIQUE   \n",
       "2     MILITAIRE         F DE F   972  None    None           MILITAIRE   \n",
       "3       DEFENSE           None  None  None    None           MILITAIRE   \n",
       "4  AGRICULTRICE           None  None  None    None                None   \n",
       "\n",
       "            profa_x          siretc          siretm  score_classif  \n",
       "0              None            None  79313781100014       0.666219  \n",
       "1  EMPLOYE COMMUNAL            None  21974016400013       0.655407  \n",
       "2              None  13001005100311            None       0.688163  \n",
       "3              None  47784205800018            None       0.570135  \n",
       "4              None            None  39759388000016       0.639157  "
      ]
     },
     "execution_count": 52,
     "metadata": {},
     "output_type": "execute_result"
    }
   ],
   "source": [
    "df_fp.head()"
   ]
  },
  {
   "cell_type": "code",
   "execution_count": null,
   "metadata": {},
   "outputs": [],
   "source": []
  },
  {
   "cell_type": "code",
   "execution_count": null,
   "metadata": {},
   "outputs": [],
   "source": []
  },
  {
   "cell_type": "code",
   "execution_count": null,
   "metadata": {},
   "outputs": [],
   "source": []
  },
  {
   "cell_type": "code",
   "execution_count": null,
   "metadata": {},
   "outputs": [],
   "source": []
  },
  {
   "cell_type": "markdown",
   "metadata": {},
   "source": [
    "# save threshold"
   ]
  },
  {
   "cell_type": "code",
   "execution_count": 119,
   "metadata": {},
   "outputs": [],
   "source": [
    "configs['decision_threshold'] = threshold\n",
    "with open(conf_file, \"w\") as f:\n",
    "    yaml.dump(configs, f)"
   ]
  },
  {
   "cell_type": "code",
   "execution_count": null,
   "metadata": {},
   "outputs": [],
   "source": []
  }
 ],
 "metadata": {
  "kernelspec": {
   "display_name": "Python 3",
   "language": "python",
   "name": "python3"
  },
  "language_info": {
   "codemirror_mode": {
    "name": "ipython",
    "version": 3
   },
   "file_extension": ".py",
   "mimetype": "text/x-python",
   "name": "python",
   "nbconvert_exporter": "python",
   "pygments_lexer": "ipython3",
   "version": "3.6.9"
  }
 },
 "nbformat": 4,
 "nbformat_minor": 4
}
