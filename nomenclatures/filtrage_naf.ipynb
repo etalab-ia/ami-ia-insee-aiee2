{
 "cells": [
  {
   "cell_type": "code",
   "execution_count": 66,
   "metadata": {},
   "outputs": [],
   "source": [
    "import pandas as pd\n",
    "import numpy as np\n",
    "import os\n",
    "import sys\n",
    "sys.path.append('..')"
   ]
  },
  {
   "cell_type": "code",
   "execution_count": 63,
   "metadata": {},
   "outputs": [],
   "source": [
    "import s3fs\n",
    "from training_classes.nomenclature import Nomenclature\n",
    "from data_import.bdd import PostGre_SQL_DB"
   ]
  },
  {
   "cell_type": "code",
   "execution_count": 8,
   "metadata": {},
   "outputs": [],
   "source": [
    "fs = s3fs.S3FileSystem(client_kwargs={'endpoint_url': 'http://minio.stable.innovation.insee.eu'})\n",
    "bdd = PostGre_SQL_DB(fs=fs)\n",
    "naf = Nomenclature(bdd, 'NAF2_1')"
   ]
  },
  {
   "cell_type": "code",
   "execution_count": 7,
   "metadata": {},
   "outputs": [
    {
     "data": {
      "text/plain": [
       "['groupe-1033/nomenclatures/NAF',\n",
       " 'groupe-1033/nomenclatures/PCS',\n",
       " 'groupe-1033/nomenclatures/fasttext',\n",
       " 'groupe-1033/nomenclatures/published_models']"
      ]
     },
     "execution_count": 7,
     "metadata": {},
     "output_type": "execute_result"
    }
   ],
   "source": [
    "fs.ls(\"s3://groupe-1033/nomenclatures/\")"
   ]
  },
  {
   "cell_type": "code",
   "execution_count": 15,
   "metadata": {},
   "outputs": [],
   "source": [
    "fs.put('trainings/PCS/2020-11-23_5/config.yaml',\n",
    "       \"s3://groupe-1033/nomenclatures/PCS/2020-11-23/5/config.yaml\")"
   ]
  },
  {
   "cell_type": "code",
   "execution_count": 104,
   "metadata": {},
   "outputs": [],
   "source": [
    "save_dir = \"trainings/NAF/2020-10-26_4\"\n",
    "best_weights = \"best_model_17-0.01509\"\n",
    "results_file = 'test_results.csv'\n",
    "results = pd.read_csv(os.path.join(save_dir, results_file),\n",
    "                     converters={\n",
    "                         'top_k_codes': lambda x: x[1:-1].replace(\"'\", \"\").replace(' ', '').split(','),\n",
    "                         'top_k_similarities': lambda s: [float(x.strip(' []')) for x in s.split(',')]})"
   ]
  },
  {
   "cell_type": "code",
   "execution_count": 105,
   "metadata": {},
   "outputs": [
    {
     "data": {
      "text/plain": [
       "Unnamed: 0                                                            0\n",
       "cabbi                                                        7300033530\n",
       "gt                                                                8710A\n",
       "gt_score                                                       0.916052\n",
       "top_k_codes           [8710A, 8730A, 8730, 873, 871, 8710, 872, 8790...\n",
       "top_k_similarities    [0.916052146652651, 0.7626523887121395, 0.6255...\n",
       "Name: 0, dtype: object"
      ]
     },
     "execution_count": 105,
     "metadata": {},
     "output_type": "execute_result"
    }
   ],
   "source": [
    "results.iloc[0]"
   ]
  },
  {
   "cell_type": "code",
   "execution_count": 58,
   "metadata": {},
   "outputs": [
    {
     "data": {
      "text/plain": [
       "'Aide à domicile'"
      ]
     },
     "execution_count": 58,
     "metadata": {},
     "output_type": "execute_result"
    }
   ],
   "source": [
    "naf.get_node('8810A').desc"
   ]
  },
  {
   "cell_type": "code",
   "execution_count": 57,
   "metadata": {},
   "outputs": [
    {
     "data": {
      "text/plain": [
       "\"Activités des ménages en tant qu''employeurs de personnel domestique\""
      ]
     },
     "execution_count": 57,
     "metadata": {},
     "output_type": "execute_result"
    }
   ],
   "source": [
    "naf.get_node('9700Z').desc"
   ]
  },
  {
   "cell_type": "code",
   "execution_count": 56,
   "metadata": {},
   "outputs": [
    {
     "data": {
      "text/html": [
       "<div>\n",
       "<style scoped>\n",
       "    .dataframe tbody tr th:only-of-type {\n",
       "        vertical-align: middle;\n",
       "    }\n",
       "\n",
       "    .dataframe tbody tr th {\n",
       "        vertical-align: top;\n",
       "    }\n",
       "\n",
       "    .dataframe thead th {\n",
       "        text-align: right;\n",
       "    }\n",
       "</style>\n",
       "<table border=\"1\" class=\"dataframe\">\n",
       "  <thead>\n",
       "    <tr style=\"text-align: right;\">\n",
       "      <th></th>\n",
       "      <th>rs_x</th>\n",
       "      <th>actet_x</th>\n",
       "      <th>profs_x</th>\n",
       "      <th>profi_x</th>\n",
       "      <th>profa_x</th>\n",
       "    </tr>\n",
       "  </thead>\n",
       "  <tbody>\n",
       "    <tr>\n",
       "      <th>0</th>\n",
       "      <td>CROIX ROUGE FRANCAISE</td>\n",
       "      <td>SERVICE D AIDE ET D ACCOMPAGNEMENT A DOMICILE</td>\n",
       "      <td>AUXILIAIRE DE VIE SOCIALE DIPLOMEE</td>\n",
       "      <td>None</td>\n",
       "      <td>None</td>\n",
       "    </tr>\n",
       "  </tbody>\n",
       "</table>\n",
       "</div>"
      ],
      "text/plain": [
       "                    rs_x                                        actet_x  \\\n",
       "0  CROIX ROUGE FRANCAISE  SERVICE D AIDE ET D ACCOMPAGNEMENT A DOMICILE   \n",
       "\n",
       "                              profs_x profi_x profa_x  \n",
       "0  AUXILIAIRE DE VIE SOCIALE DIPLOMEE    None    None  "
      ]
     },
     "execution_count": 56,
     "metadata": {},
     "output_type": "execute_result"
    }
   ],
   "source": [
    "bdd.read_from_sql(\"SELECT * FROM rp_final_2017 WHERE cabbi='7300050429';\")[['rs_x', 'actet_x', 'profs_x', 'profi_x', 'profa_x']]"
   ]
  },
  {
   "cell_type": "code",
   "execution_count": 109,
   "metadata": {},
   "outputs": [],
   "source": [
    "# stats on diff between 1 and 2 when gt is 1\n",
    "results['top_1'] = results['gt'] == results['top_k_codes'].map(lambda x: x[0])\n",
    "results['top_2_diff'] = results['top_k_similarities'].map(lambda x: x[0] - x[1])\n",
    "results[results.top_1]['top_2_diff'].mean()"
   ]
  },
  {
   "cell_type": "code",
   "execution_count": null,
   "metadata": {},
   "outputs": [],
   "source": []
  },
  {
   "cell_type": "markdown",
   "metadata": {},
   "source": [
    "# Exploration Comparaison PCS"
   ]
  },
  {
   "cell_type": "code",
   "execution_count": 90,
   "metadata": {},
   "outputs": [],
   "source": [
    "from data_import.csv_to_postgresql import read_table_description_file, import_csv_to_postegrsql\n",
    "from training_utils import load_config, get_best_savedmodel\n",
    "from run_top_k import load_model_from_save_dir, get_top_k, get_projection\n",
    "from training_classes.similarity_model import SimilarityModel"
   ]
  },
  {
   "cell_type": "code",
   "execution_count": 91,
   "metadata": {},
   "outputs": [],
   "source": [
    "config = load_config(save_dir)"
   ]
  },
  {
   "cell_type": "code",
   "execution_count": 92,
   "metadata": {},
   "outputs": [
    {
     "name": "stdout",
     "output_type": "stream",
     "text": [
      "Model: \"similarity_model\"\n",
      "__________________________________________________________________________________________________\n",
      "Layer (type)                    Output Shape         Param #     Connected to                     \n",
      "==================================================================================================\n",
      "input_1 (InputLayer)            [(None, 42)]         0                                            \n",
      "__________________________________________________________________________________________________\n",
      "input_2 (InputLayer)            [(None, 42)]         0                                            \n",
      "__________________________________________________________________________________________________\n",
      "input_3 (InputLayer)            [(None, 42)]         0                                            \n",
      "__________________________________________________________________________________________________\n",
      "embedding (TokenFieldAndPositio (None, 42, 180)      42567840    input_1[0][0]                    \n",
      "                                                                 input_2[0][0]                    \n",
      "                                                                 input_3[0][0]                    \n",
      "__________________________________________________________________________________________________\n",
      "transformer_block (TransformerB (None, 42, 180)      165876      embedding[0][0]                  \n",
      "__________________________________________________________________________________________________\n",
      "global_average_pooling1d (Globa (None, 180)          0           transformer_block[0][0]          \n",
      "__________________________________________________________________________________________________\n",
      "dense_6 (Dense)                 (None, 256)          46336       global_average_pooling1d[0][0]   \n",
      "__________________________________________________________________________________________________\n",
      "tf_op_layer_Mul (TensorFlowOpLa (None, 256)          0           dense_6[0][0]                    \n",
      "                                                                 dense_6[0][0]                    \n",
      "__________________________________________________________________________________________________\n",
      "tf_op_layer_Sum (TensorFlowOpLa (None, 1)            0           tf_op_layer_Mul[0][0]            \n",
      "__________________________________________________________________________________________________\n",
      "tf_op_layer_Sqrt (TensorFlowOpL (None, 1)            0           tf_op_layer_Sum[0][0]            \n",
      "__________________________________________________________________________________________________\n",
      "tf_op_layer_Squeeze (TensorFlow (None,)              0           tf_op_layer_Sqrt[0][0]           \n",
      "__________________________________________________________________________________________________\n",
      "tf_op_layer_Reshape (TensorFlow (None, 1)            0           tf_op_layer_Squeeze[0][0]        \n",
      "__________________________________________________________________________________________________\n",
      "tf_op_layer_RealDiv (TensorFlow (None, 256)          0           dense_6[0][0]                    \n",
      "                                                                 tf_op_layer_Reshape[0][0]        \n",
      "==================================================================================================\n",
      "Total params: 42,780,052\n",
      "Trainable params: 42,780,052\n",
      "Non-trainable params: 0\n",
      "__________________________________________________________________________________________________\n"
     ]
    }
   ],
   "source": [
    "save_dir = 'trainings/PCS/2020-11-23_5'\n",
    "best_weights = get_best_savedmodel(save_dir)\n",
    "nomenclature, data_cleaner, data_formatter, model, top1_classifier = load_model_from_save_dir(save_dir, best_weights)"
   ]
  },
  {
   "cell_type": "code",
   "execution_count": 5,
   "metadata": {},
   "outputs": [
    {
     "name": "stderr",
     "output_type": "stream",
     "text": [
      "/usr/local/lib/python3.6/dist-packages/IPython/core/interactiveshell.py:3072: DtypeWarning: Columns (0) have mixed types.Specify dtype option on import or set low_memory=False.\n",
      "  interactivity=interactivity, compiler=compiler, result=result)\n"
     ]
    }
   ],
   "source": [
    "results = pd.read_csv('different_preds_rp_final_2018.csv', delimiter=';')"
   ]
  },
  {
   "cell_type": "code",
   "execution_count": 6,
   "metadata": {},
   "outputs": [
    {
     "data": {
      "text/plain": [
       "Index(['cabbi', 'rs_x', 'actet_x', 'profs_x', 'profi_x', 'profa_x', 'index',\n",
       "       'actet_c_m', 'i_mca_c', 'i_actet_c', 'profs_c', 'profs_c_c',\n",
       "       'profs_c_m', 'i_profs_c', 'profi_c', 'profi_c_c', 'profi_c_m',\n",
       "       'i_profi_c', 'profa_c', 'profa_c_c', 'profa_c_m', 'i_profa_c',\n",
       "       'pcs_proj', 'pcs_code_0', 'pcs_score_0', 'pcs_code_1', 'pcs_score_1',\n",
       "       'pcs_code_2', 'pcs_score_2', 'pcs_code_3', 'pcs_score_3', 'pcs_code_4',\n",
       "       'pcs_score_4', 'pcs_code_5', 'pcs_score_5', 'pcs_code_6', 'pcs_score_6',\n",
       "       'pcs_code_7', 'pcs_score_7', 'pcs_code_8', 'pcs_score_8', 'pcs_code_9',\n",
       "       'pcs_score_9', 'prof_c', 'prof_c_c', 'prof_c_m', 'i_prof_c',\n",
       "       'auto_coded_batch', 'auto_coded_recap', 'previous_auto_coded',\n",
       "       'previous_auto_not_coded', 'previous_manual_coded',\n",
       "       'previous_not_coded', 'gt_rang', 'codage_auto', 'encoded_correctly',\n",
       "       'encoded_incorrectly', 'top1', 'top5', 'top10', 'not_found',\n",
       "       'not_calculated', 'previous_auto_encoded_and_encoded_correctly',\n",
       "       'previous_auto_encoded_and_encoded_incorrectly',\n",
       "       'previous_auto_encoded_and_not_encoded',\n",
       "       'previous_auto_encoded_and_top1', 'previous_auto_encoded_and_top5',\n",
       "       'previous_auto_encoded_and_top10', 'previous_auto_encoded_and_notfound',\n",
       "       'previous_manual_encoded_and_encoded_correctly',\n",
       "       'previous_manual_encoded_and_encoded_incorrectly',\n",
       "       'previous_manual_encoded_and_not_encoded',\n",
       "       'previous_manual_encoded_and_top1', 'previous_manual_encoded_and_top5',\n",
       "       'previous_manual_encoded_and_top10',\n",
       "       'previous_manual_encoded_and_notfound',\n",
       "       'previous_not_encoded_and_encoded',\n",
       "       'previous_not_encoded_and_not_calculated'],\n",
       "      dtype='object')"
      ]
     },
     "execution_count": 6,
     "metadata": {},
     "output_type": "execute_result"
    }
   ],
   "source": [
    "results.columns"
   ]
  },
  {
   "cell_type": "code",
   "execution_count": 9,
   "metadata": {},
   "outputs": [],
   "source": [
    "pcs = Nomenclature(bdd, 'PCS1')"
   ]
  },
  {
   "cell_type": "code",
   "execution_count": 10,
   "metadata": {},
   "outputs": [],
   "source": [
    "rang_2 = results[results.gt_rang == 1][['rs_x', 'actet_x', 'profs_x', 'profi_x', 'profa_x', 'prof_c', 'pcs_code_0', 'pcs_code_1']][:1000]"
   ]
  },
  {
   "cell_type": "code",
   "execution_count": 11,
   "metadata": {},
   "outputs": [],
   "source": [
    "rang_2['pcs_0'] = rang_2['pcs_code_0'].map(lambda x: pcs.get_node(x).desc)\n",
    "rang_2['pcs_1'] = rang_2['pcs_code_1'].map(lambda x: pcs.get_node(x).desc)"
   ]
  },
  {
   "cell_type": "code",
   "execution_count": 12,
   "metadata": {},
   "outputs": [
    {
     "data": {
      "text/html": [
       "<div>\n",
       "<style scoped>\n",
       "    .dataframe tbody tr th:only-of-type {\n",
       "        vertical-align: middle;\n",
       "    }\n",
       "\n",
       "    .dataframe tbody tr th {\n",
       "        vertical-align: top;\n",
       "    }\n",
       "\n",
       "    .dataframe thead th {\n",
       "        text-align: right;\n",
       "    }\n",
       "</style>\n",
       "<table border=\"1\" class=\"dataframe\">\n",
       "  <thead>\n",
       "    <tr style=\"text-align: right;\">\n",
       "      <th></th>\n",
       "      <th>rs_x</th>\n",
       "      <th>actet_x</th>\n",
       "      <th>profs_x</th>\n",
       "      <th>profi_x</th>\n",
       "      <th>profa_x</th>\n",
       "      <th>prof_c</th>\n",
       "      <th>pcs_code_0</th>\n",
       "      <th>pcs_code_1</th>\n",
       "      <th>pcs_0</th>\n",
       "      <th>pcs_1</th>\n",
       "    </tr>\n",
       "  </thead>\n",
       "  <tbody>\n",
       "    <tr>\n",
       "      <th>1</th>\n",
       "      <td>CENTRE HOSPITALIER DE VERDUN</td>\n",
       "      <td>HOPITAL</td>\n",
       "      <td>AGENT TECHNIQUE</td>\n",
       "      <td>NaN</td>\n",
       "      <td>NaN</td>\n",
       "      <td>632K</td>\n",
       "      <td>621F</td>\n",
       "      <td>632K</td>\n",
       "      <td>Ouvriers qualifiés des travaux publics (salari...</td>\n",
       "      <td>Ouvriers qualifiés d''entretien général des bâ...</td>\n",
       "    </tr>\n",
       "    <tr>\n",
       "      <th>2</th>\n",
       "      <td>VILLE DE LYON</td>\n",
       "      <td>GROUPE SCOLAIRE</td>\n",
       "      <td>RESPONSABLE DE RESTAURANT SCOLAIRE</td>\n",
       "      <td>NaN</td>\n",
       "      <td>NaN</td>\n",
       "      <td>468A</td>\n",
       "      <td>488B</td>\n",
       "      <td>468A</td>\n",
       "      <td>Maîtrise de restauration  : gestion d''établis...</td>\n",
       "      <td>Maîtrise de restauration : salle et service</td>\n",
       "    </tr>\n",
       "    <tr>\n",
       "      <th>4</th>\n",
       "      <td>MAIRIE AMIENS</td>\n",
       "      <td>ANIMATRICE</td>\n",
       "      <td>ANIMATRICE</td>\n",
       "      <td>NaN</td>\n",
       "      <td>NaN</td>\n",
       "      <td>422E</td>\n",
       "      <td>435B</td>\n",
       "      <td>422E</td>\n",
       "      <td>Animateurs socioculturels et de loisirs</td>\n",
       "      <td>Surveillants et aides-éducateurs des établisse...</td>\n",
       "    </tr>\n",
       "    <tr>\n",
       "      <th>6</th>\n",
       "      <td>UNIVERSITE DE CAEN NORMANDIE</td>\n",
       "      <td>ENSEIGNEMENT</td>\n",
       "      <td>TECHNICIENNE ADMINISTRATIVE</td>\n",
       "      <td>NaN</td>\n",
       "      <td>NaN</td>\n",
       "      <td>451E</td>\n",
       "      <td>523A</td>\n",
       "      <td>451E</td>\n",
       "      <td>Adjoints administratifs de la fonction publiqu...</td>\n",
       "      <td>Autres personnels administratifs de catégorie ...</td>\n",
       "    </tr>\n",
       "    <tr>\n",
       "      <th>8</th>\n",
       "      <td>ADECCO</td>\n",
       "      <td>PAYSAGE</td>\n",
       "      <td>PAYSAGISTE</td>\n",
       "      <td>NaN</td>\n",
       "      <td>NaN</td>\n",
       "      <td>631A</td>\n",
       "      <td>211J</td>\n",
       "      <td>631A</td>\n",
       "      <td>Entrepreneurs en parcs et jardins, paysagistes</td>\n",
       "      <td>Jardiniers</td>\n",
       "    </tr>\n",
       "    <tr>\n",
       "      <th>...</th>\n",
       "      <td>...</td>\n",
       "      <td>...</td>\n",
       "      <td>...</td>\n",
       "      <td>...</td>\n",
       "      <td>...</td>\n",
       "      <td>...</td>\n",
       "      <td>...</td>\n",
       "      <td>...</td>\n",
       "      <td>...</td>\n",
       "      <td>...</td>\n",
       "    </tr>\n",
       "    <tr>\n",
       "      <th>3590</th>\n",
       "      <td>COUREGES</td>\n",
       "      <td>MODE</td>\n",
       "      <td>COMPTABILITEE</td>\n",
       "      <td>NaN</td>\n",
       "      <td>NaN</td>\n",
       "      <td>373C</td>\n",
       "      <td>461D</td>\n",
       "      <td>373C</td>\n",
       "      <td>Maîtrise et techniciens des services financier...</td>\n",
       "      <td>Cadres des services financiers ou comptables d...</td>\n",
       "    </tr>\n",
       "    <tr>\n",
       "      <th>3592</th>\n",
       "      <td>VEOLIA</td>\n",
       "      <td>EQUIPIER DE COLLECTE</td>\n",
       "      <td>EQUIPIER DE COLLECTE</td>\n",
       "      <td>NaN</td>\n",
       "      <td>NaN</td>\n",
       "      <td>684B</td>\n",
       "      <td>628E</td>\n",
       "      <td>684B</td>\n",
       "      <td>Ouvriers qualifiés de l''assainissement et du ...</td>\n",
       "      <td>Ouvriers non qualifiés de l''assainissement et...</td>\n",
       "    </tr>\n",
       "    <tr>\n",
       "      <th>3597</th>\n",
       "      <td>VILLE DE PARIS</td>\n",
       "      <td>CRECHE</td>\n",
       "      <td>EDUCATRICE JEUNES ENFANTS</td>\n",
       "      <td>NaN</td>\n",
       "      <td>NaN</td>\n",
       "      <td>434G</td>\n",
       "      <td>434D</td>\n",
       "      <td>434G</td>\n",
       "      <td>Educateurs spécialisés</td>\n",
       "      <td>Educateurs de jeunes enfants</td>\n",
       "    </tr>\n",
       "    <tr>\n",
       "      <th>3604</th>\n",
       "      <td>EUROPORTE</td>\n",
       "      <td>FERROVIAIRE</td>\n",
       "      <td>CONDUCTEUR DE TRAIN</td>\n",
       "      <td>NaN</td>\n",
       "      <td>NaN</td>\n",
       "      <td>654A</td>\n",
       "      <td>641B</td>\n",
       "      <td>654A</td>\n",
       "      <td>Conducteurs de véhicule routier de transport e...</td>\n",
       "      <td>Conducteurs qualifiés d''engins de transport g...</td>\n",
       "    </tr>\n",
       "    <tr>\n",
       "      <th>3609</th>\n",
       "      <td>CAF DE L'ESSONNE</td>\n",
       "      <td>AGENT CAF</td>\n",
       "      <td>TECHNICIEN CONSEIL</td>\n",
       "      <td>NaN</td>\n",
       "      <td>NaN</td>\n",
       "      <td>467D</td>\n",
       "      <td>545D</td>\n",
       "      <td>467D</td>\n",
       "      <td>Employés des services techniques des organisme...</td>\n",
       "      <td>Professions intermédiaires techniques des orga...</td>\n",
       "    </tr>\n",
       "  </tbody>\n",
       "</table>\n",
       "<p>1000 rows × 10 columns</p>\n",
       "</div>"
      ],
      "text/plain": [
       "                              rs_x               actet_x  \\\n",
       "1     CENTRE HOSPITALIER DE VERDUN               HOPITAL   \n",
       "2                    VILLE DE LYON       GROUPE SCOLAIRE   \n",
       "4                    MAIRIE AMIENS            ANIMATRICE   \n",
       "6     UNIVERSITE DE CAEN NORMANDIE          ENSEIGNEMENT   \n",
       "8                           ADECCO               PAYSAGE   \n",
       "...                            ...                   ...   \n",
       "3590                      COUREGES                  MODE   \n",
       "3592                        VEOLIA  EQUIPIER DE COLLECTE   \n",
       "3597                VILLE DE PARIS                CRECHE   \n",
       "3604                     EUROPORTE           FERROVIAIRE   \n",
       "3609              CAF DE L'ESSONNE             AGENT CAF   \n",
       "\n",
       "                                 profs_x profi_x profa_x prof_c pcs_code_0  \\\n",
       "1                        AGENT TECHNIQUE     NaN     NaN   632K       621F   \n",
       "2     RESPONSABLE DE RESTAURANT SCOLAIRE     NaN     NaN   468A       488B   \n",
       "4                             ANIMATRICE     NaN     NaN   422E       435B   \n",
       "6            TECHNICIENNE ADMINISTRATIVE     NaN     NaN   451E       523A   \n",
       "8                             PAYSAGISTE     NaN     NaN   631A       211J   \n",
       "...                                  ...     ...     ...    ...        ...   \n",
       "3590                       COMPTABILITEE     NaN     NaN   373C       461D   \n",
       "3592                EQUIPIER DE COLLECTE     NaN     NaN   684B       628E   \n",
       "3597           EDUCATRICE JEUNES ENFANTS     NaN     NaN   434G       434D   \n",
       "3604                 CONDUCTEUR DE TRAIN     NaN     NaN   654A       641B   \n",
       "3609                  TECHNICIEN CONSEIL     NaN     NaN   467D       545D   \n",
       "\n",
       "     pcs_code_1                                              pcs_0  \\\n",
       "1          632K  Ouvriers qualifiés des travaux publics (salari...   \n",
       "2          468A  Maîtrise de restauration  : gestion d''établis...   \n",
       "4          422E            Animateurs socioculturels et de loisirs   \n",
       "6          451E  Adjoints administratifs de la fonction publiqu...   \n",
       "8          631A     Entrepreneurs en parcs et jardins, paysagistes   \n",
       "...         ...                                                ...   \n",
       "3590       373C  Maîtrise et techniciens des services financier...   \n",
       "3592       684B  Ouvriers qualifiés de l''assainissement et du ...   \n",
       "3597       434G                             Educateurs spécialisés   \n",
       "3604       654A  Conducteurs de véhicule routier de transport e...   \n",
       "3609       467D  Employés des services techniques des organisme...   \n",
       "\n",
       "                                                  pcs_1  \n",
       "1     Ouvriers qualifiés d''entretien général des bâ...  \n",
       "2           Maîtrise de restauration : salle et service  \n",
       "4     Surveillants et aides-éducateurs des établisse...  \n",
       "6     Autres personnels administratifs de catégorie ...  \n",
       "8                                            Jardiniers  \n",
       "...                                                 ...  \n",
       "3590  Cadres des services financiers ou comptables d...  \n",
       "3592  Ouvriers non qualifiés de l''assainissement et...  \n",
       "3597                       Educateurs de jeunes enfants  \n",
       "3604  Conducteurs qualifiés d''engins de transport g...  \n",
       "3609  Professions intermédiaires techniques des orga...  \n",
       "\n",
       "[1000 rows x 10 columns]"
      ]
     },
     "execution_count": 12,
     "metadata": {},
     "output_type": "execute_result"
    }
   ],
   "source": [
    "rang_2"
   ]
  },
  {
   "cell_type": "code",
   "execution_count": 13,
   "metadata": {},
   "outputs": [
    {
     "data": {
      "text/plain": [
       "pcs_score_0     0.93659\n",
       "pcs_score_1    0.875668\n",
       "Name: 3597, dtype: object"
      ]
     },
     "execution_count": 13,
     "metadata": {},
     "output_type": "execute_result"
    }
   ],
   "source": [
    "results.iloc[3597][['pcs_score_0', 'pcs_score_1']]"
   ]
  },
  {
   "cell_type": "code",
   "execution_count": 93,
   "metadata": {},
   "outputs": [],
   "source": [
    "input_columns = [c.replace('_repr', '_x') for c in config['trainings']['data']['input_columns']]\n",
    "gt_column = config['trainings']['data']['gt_column']\n",
    "alpha_tree_mod = config['post_process']['alpha_tree_mod']\n",
    "beta_str_sim_mod = config['post_process']['beta_str_sim_mod']\n",
    "nb_top_values = 10\n",
    "\n",
    "df = pd.DataFrame(results.loc[3597]).T.reset_index()\n",
    "del df['index']\n",
    "\n",
    "cleaned_data, proj = get_projection(df, input_columns, \n",
    "                                    data_cleaner, data_formatter, model)\n",
    "nom = data_formatter.nomenclature_distance.nomenclature\n",
    "similarity_func = SimilarityModel.similarity_func\n",
    "cleaned_main_field = cleaned_data[input_columns[0]].values.tolist()\n",
    "\n",
    "base_similarities = similarity_func(np.expand_dims(proj[0], axis=0), nom.projections).numpy()[0]\n",
    "similarities = base_similarities.copy()\n",
    "if alpha_tree_mod:\n",
    "    sim_alpha = nom.get_tree_score_modifiers(data_formatter.nomenclature_distance, base_similarities)\n",
    "    similarities += alpha_tree_mod * nom.get_tree_score_modifiers(data_formatter.nomenclature_distance, base_similarities)\n",
    "if beta_str_sim_mod:\n",
    "    sim_beta = nom.get_trigram_dist_modifiers(cleaned_main_field[i], base_similarities)\n",
    "    similarities += beta_str_sim_mod * nom.get_trigram_dist_modifiers(cleaned_main_field[i], base_similarities)\n",
    "top_idx = (-similarities).argsort()[:nb_top_values]\n",
    "top_codes = [nom.nodes[nom.projections_reverse_ind[i]].id for i in top_idx]\n",
    "top_similarities = [similarities[i] for i in top_idx]"
   ]
  },
  {
   "cell_type": "code",
   "execution_count": 82,
   "metadata": {},
   "outputs": [],
   "source": [
    "nom_projection_ind = {v: k for k, v in nom.projections_reverse_ind.items()}"
   ]
  },
  {
   "cell_type": "code",
   "execution_count": 94,
   "metadata": {},
   "outputs": [
    {
     "data": {
      "text/plain": [
       "277"
      ]
     },
     "execution_count": 94,
     "metadata": {},
     "output_type": "execute_result"
    }
   ],
   "source": [
    "nom_projection_ind['434D']"
   ]
  },
  {
   "cell_type": "code",
   "execution_count": 95,
   "metadata": {},
   "outputs": [
    {
     "data": {
      "text/plain": [
       "0.18576279977432889"
      ]
     },
     "execution_count": 95,
     "metadata": {},
     "output_type": "execute_result"
    }
   ],
   "source": [
    "sim_beta[277]"
   ]
  },
  {
   "cell_type": "code",
   "execution_count": 85,
   "metadata": {},
   "outputs": [
    {
     "data": {
      "text/plain": [
       "280"
      ]
     },
     "execution_count": 85,
     "metadata": {},
     "output_type": "execute_result"
    }
   ],
   "source": [
    "nom_projection_ind['434G']"
   ]
  },
  {
   "cell_type": "code",
   "execution_count": 96,
   "metadata": {},
   "outputs": [
    {
     "data": {
      "text/plain": [
       "0.6218430130838938"
      ]
     },
     "execution_count": 96,
     "metadata": {},
     "output_type": "execute_result"
    }
   ],
   "source": [
    "sim_beta[280]"
   ]
  },
  {
   "cell_type": "code",
   "execution_count": 87,
   "metadata": {},
   "outputs": [
    {
     "data": {
      "text/plain": [
       "['crech']"
      ]
     },
     "execution_count": 87,
     "metadata": {},
     "output_type": "execute_result"
    }
   ],
   "source": [
    "cleaned_main_field"
   ]
  },
  {
   "cell_type": "code",
   "execution_count": 88,
   "metadata": {},
   "outputs": [
    {
     "data": {
      "text/html": [
       "<div>\n",
       "<style scoped>\n",
       "    .dataframe tbody tr th:only-of-type {\n",
       "        vertical-align: middle;\n",
       "    }\n",
       "\n",
       "    .dataframe tbody tr th {\n",
       "        vertical-align: top;\n",
       "    }\n",
       "\n",
       "    .dataframe thead th {\n",
       "        text-align: right;\n",
       "    }\n",
       "</style>\n",
       "<table border=\"1\" class=\"dataframe\">\n",
       "  <thead>\n",
       "    <tr style=\"text-align: right;\">\n",
       "      <th></th>\n",
       "      <th>index</th>\n",
       "      <th>level_0</th>\n",
       "      <th>cabbi</th>\n",
       "      <th>rs_x</th>\n",
       "      <th>actet_x</th>\n",
       "      <th>actet_c_m</th>\n",
       "      <th>i_mca_c</th>\n",
       "      <th>i_actet_c</th>\n",
       "      <th>profs_c_c</th>\n",
       "      <th>profs_c_m</th>\n",
       "      <th>...</th>\n",
       "      <th>previous_manual_encoded_and_encoded_correctly</th>\n",
       "      <th>previous_manual_encoded_and_encoded_incorrectly</th>\n",
       "      <th>previous_manual_encoded_and_not_encoded</th>\n",
       "      <th>previous_manual_encoded_and_top1</th>\n",
       "      <th>previous_manual_encoded_and_top5</th>\n",
       "      <th>previous_manual_encoded_and_top10</th>\n",
       "      <th>previous_manual_encoded_and_notfound</th>\n",
       "      <th>previous_not_encoded_and_encoded</th>\n",
       "      <th>previous_not_encoded_and_not_calculated</th>\n",
       "      <th>prof_x</th>\n",
       "    </tr>\n",
       "  </thead>\n",
       "  <tbody>\n",
       "    <tr>\n",
       "      <th>0</th>\n",
       "      <td>0</td>\n",
       "      <td>3597</td>\n",
       "      <td>8353037002</td>\n",
       "      <td>vill paris</td>\n",
       "      <td>crech</td>\n",
       "      <td>NaN</td>\n",
       "      <td>C</td>\n",
       "      <td>CAM</td>\n",
       "      <td>434G</td>\n",
       "      <td>NaN</td>\n",
       "      <td>...</td>\n",
       "      <td>False</td>\n",
       "      <td>False</td>\n",
       "      <td>False</td>\n",
       "      <td>False</td>\n",
       "      <td>False</td>\n",
       "      <td>False</td>\n",
       "      <td>False</td>\n",
       "      <td>False</td>\n",
       "      <td>False</td>\n",
       "      <td>educ jeun enfant</td>\n",
       "    </tr>\n",
       "  </tbody>\n",
       "</table>\n",
       "<p>1 rows × 74 columns</p>\n",
       "</div>"
      ],
      "text/plain": [
       "   index  level_0       cabbi        rs_x actet_x actet_c_m i_mca_c i_actet_c  \\\n",
       "0      0     3597  8353037002  vill paris   crech       NaN       C       CAM   \n",
       "\n",
       "  profs_c_c profs_c_m  ... previous_manual_encoded_and_encoded_correctly  \\\n",
       "0      434G       NaN  ...                                         False   \n",
       "\n",
       "  previous_manual_encoded_and_encoded_incorrectly  \\\n",
       "0                                           False   \n",
       "\n",
       "  previous_manual_encoded_and_not_encoded previous_manual_encoded_and_top1  \\\n",
       "0                                   False                            False   \n",
       "\n",
       "  previous_manual_encoded_and_top5 previous_manual_encoded_and_top10  \\\n",
       "0                            False                             False   \n",
       "\n",
       "  previous_manual_encoded_and_notfound previous_not_encoded_and_encoded  \\\n",
       "0                                False                            False   \n",
       "\n",
       "  previous_not_encoded_and_not_calculated            prof_x  \n",
       "0                                   False  educ jeun enfant  \n",
       "\n",
       "[1 rows x 74 columns]"
      ]
     },
     "execution_count": 88,
     "metadata": {},
     "output_type": "execute_result"
    }
   ],
   "source": [
    "cleaned_data"
   ]
  },
  {
   "cell_type": "code",
   "execution_count": 89,
   "metadata": {},
   "outputs": [
    {
     "data": {
      "text/plain": [
       "['actet_x', 'rs_x', 'prof_x']"
      ]
     },
     "execution_count": 89,
     "metadata": {},
     "output_type": "execute_result"
    }
   ],
   "source": [
    "input_columns"
   ]
  },
  {
   "cell_type": "code",
   "execution_count": 98,
   "metadata": {},
   "outputs": [
    {
     "data": {
      "text/plain": [
       "(['434G',\n",
       "  '434D',\n",
       "  '451F',\n",
       "  '523A',\n",
       "  '52',\n",
       "  '524A',\n",
       "  '522A',\n",
       "  '351A',\n",
       "  '333F',\n",
       "  '425A'],\n",
       " [0.811912697363536,\n",
       "  0.7459271707458557,\n",
       "  0.6170084428208236,\n",
       "  0.5360121720413512,\n",
       "  0.5156312600347912,\n",
       "  0.42806181155903417,\n",
       "  0.363851893458688,\n",
       "  0.28212801788727565,\n",
       "  0.2788423211567317,\n",
       "  0.2775545935330373])"
      ]
     },
     "execution_count": 98,
     "metadata": {},
     "output_type": "execute_result"
    }
   ],
   "source": [
    "top_codes, top_similarities"
   ]
  },
  {
   "cell_type": "code",
   "execution_count": null,
   "metadata": {},
   "outputs": [],
   "source": []
  }
 ],
 "metadata": {
  "kernelspec": {
   "display_name": "Python 3",
   "language": "python",
   "name": "python3"
  },
  "language_info": {
   "codemirror_mode": {
    "name": "ipython",
    "version": 3
   },
   "file_extension": ".py",
   "mimetype": "text/x-python",
   "name": "python",
   "nbconvert_exporter": "python",
   "pygments_lexer": "ipython3",
   "version": "3.6.9"
  }
 },
 "nbformat": 4,
 "nbformat_minor": 4
}
